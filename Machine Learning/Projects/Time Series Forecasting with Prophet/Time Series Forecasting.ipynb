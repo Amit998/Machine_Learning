{
 "cells": [
  {
   "cell_type": "code",
   "execution_count": 1,
   "metadata": {},
   "outputs": [],
   "source": [
    "import warnings\n",
    "from pandas._libs import interval\n",
    "warnings.simplefilter(\"ignore\")\n"
   ]
  },
  {
   "cell_type": "code",
   "execution_count": 1,
   "metadata": {},
   "outputs": [
    {
     "name": "stdout",
     "output_type": "stream",
     "text": [
      "Requirement already satisfied: pystan in c:\\users\\damit\\appdata\\local\\programs\\python\\python37\\lib\\site-packages (2.19.1.1)\n",
      "Requirement already satisfied: numpy>=1.7 in c:\\users\\damit\\appdata\\local\\programs\\python\\python37\\lib\\site-packages (from pystan) (1.20.2)\n",
      "Requirement already satisfied: Cython!=0.25.1,>=0.22 in c:\\users\\damit\\appdata\\local\\programs\\python\\python37\\lib\\site-packages (from pystan) (0.29.23)\n",
      "Collecting fbprophet\n",
      "  Using cached fbprophet-0.7.1.tar.gz (64 kB)\n",
      "Requirement already satisfied: Cython>=0.22 in c:\\users\\damit\\appdata\\local\\programs\\python\\python37\\lib\\site-packages (from fbprophet) (0.29.23)\n",
      "Requirement already satisfied: cmdstanpy==0.9.5 in c:\\users\\damit\\appdata\\local\\programs\\python\\python37\\lib\\site-packages (from fbprophet) (0.9.5)\n",
      "Requirement already satisfied: pystan>=2.14 in c:\\users\\damit\\appdata\\local\\programs\\python\\python37\\lib\\site-packages (from fbprophet) (2.19.1.1)\n",
      "Requirement already satisfied: numpy>=1.15.4 in c:\\users\\damit\\appdata\\local\\programs\\python\\python37\\lib\\site-packages (from fbprophet) (1.20.2)\n",
      "Requirement already satisfied: pandas>=1.0.4 in c:\\users\\damit\\appdata\\local\\programs\\python\\python37\\lib\\site-packages (from fbprophet) (1.2.4)\n",
      "Requirement already satisfied: matplotlib>=2.0.0 in c:\\users\\damit\\appdata\\local\\programs\\python\\python37\\lib\\site-packages (from fbprophet) (3.4.1)\n",
      "Requirement already satisfied: LunarCalendar>=0.0.9 in c:\\users\\damit\\appdata\\local\\programs\\python\\python37\\lib\\site-packages (from fbprophet) (0.0.9)\n",
      "Requirement already satisfied: convertdate>=2.1.2 in c:\\users\\damit\\appdata\\local\\programs\\python\\python37\\lib\\site-packages (from fbprophet) (2.3.2)\n",
      "Requirement already satisfied: holidays>=0.10.2 in c:\\users\\damit\\appdata\\local\\programs\\python\\python37\\lib\\site-packages (from fbprophet) (0.11.1)\n",
      "Requirement already satisfied: setuptools-git>=1.2 in c:\\users\\damit\\appdata\\local\\programs\\python\\python37\\lib\\site-packages (from fbprophet) (1.2)\n",
      "Requirement already satisfied: python-dateutil>=2.8.0 in c:\\users\\damit\\appdata\\local\\programs\\python\\python37\\lib\\site-packages (from fbprophet) (2.8.1)\n",
      "Requirement already satisfied: tqdm>=4.36.1 in c:\\users\\damit\\appdata\\local\\programs\\python\\python37\\lib\\site-packages (from fbprophet) (4.60.0)\n",
      "Requirement already satisfied: pytz>=2014.10 in c:\\users\\damit\\appdata\\local\\programs\\python\\python37\\lib\\site-packages (from convertdate>=2.1.2->fbprophet) (2021.1)\n",
      "Requirement already satisfied: pymeeus<=1,>=0.3.13 in c:\\users\\damit\\appdata\\local\\programs\\python\\python37\\lib\\site-packages (from convertdate>=2.1.2->fbprophet) (0.5.11)\n",
      "Requirement already satisfied: hijri-converter in c:\\users\\damit\\appdata\\local\\programs\\python\\python37\\lib\\site-packages (from holidays>=0.10.2->fbprophet) (2.1.1)\n",
      "Requirement already satisfied: six in c:\\users\\damit\\appdata\\local\\programs\\python\\python37\\lib\\site-packages (from holidays>=0.10.2->fbprophet) (1.15.0)\n",
      "Requirement already satisfied: korean-lunar-calendar in c:\\users\\damit\\appdata\\local\\programs\\python\\python37\\lib\\site-packages (from holidays>=0.10.2->fbprophet) (0.2.1)\n",
      "Requirement already satisfied: ephem>=3.7.5.3 in c:\\users\\damit\\appdata\\local\\programs\\python\\python37\\lib\\site-packages (from LunarCalendar>=0.0.9->fbprophet) (3.7.7.1)\n",
      "Requirement already satisfied: cycler>=0.10 in c:\\users\\damit\\appdata\\local\\programs\\python\\python37\\lib\\site-packages (from matplotlib>=2.0.0->fbprophet) (0.10.0)\n",
      "Requirement already satisfied: pillow>=6.2.0 in c:\\users\\damit\\appdata\\local\\programs\\python\\python37\\lib\\site-packages (from matplotlib>=2.0.0->fbprophet) (8.2.0)\n",
      "Requirement already satisfied: kiwisolver>=1.0.1 in c:\\users\\damit\\appdata\\local\\programs\\python\\python37\\lib\\site-packages (from matplotlib>=2.0.0->fbprophet) (1.3.1)\n",
      "Requirement already satisfied: pyparsing>=2.2.1 in c:\\users\\damit\\appdata\\local\\programs\\python\\python37\\lib\\site-packages (from matplotlib>=2.0.0->fbprophet) (2.4.7)\n",
      "Building wheels for collected packages: fbprophet\n",
      "  Building wheel for fbprophet (setup.py): started\n",
      "  Building wheel for fbprophet (setup.py): finished with status 'error'\n",
      "  Running setup.py clean for fbprophet\n",
      "Failed to build fbprophet\n",
      "Installing collected packages: fbprophet\n",
      "    Running setup.py install for fbprophet: started\n"
     ]
    },
    {
     "name": "stderr",
     "output_type": "stream",
     "text": [
      "  ERROR: Command errored out with exit status 1:\n",
      "   command: 'c:\\users\\damit\\appdata\\local\\programs\\python\\python37\\python.exe' -u -c 'import sys, setuptools, tokenize; sys.argv[0] = '\"'\"'C:\\\\Users\\\\damit\\\\AppData\\\\Local\\\\Temp\\\\pip-install-38qtp4mh\\\\fbprophet_cce051f5c03f47b1a5f483ec4eca794b\\\\setup.py'\"'\"'; __file__='\"'\"'C:\\\\Users\\\\damit\\\\AppData\\\\Local\\\\Temp\\\\pip-install-38qtp4mh\\\\fbprophet_cce051f5c03f47b1a5f483ec4eca794b\\\\setup.py'\"'\"';f=getattr(tokenize, '\"'\"'open'\"'\"', open)(__file__);code=f.read().replace('\"'\"'\\r\\n'\"'\"', '\"'\"'\\n'\"'\"');f.close();exec(compile(code, __file__, '\"'\"'exec'\"'\"'))' bdist_wheel -d 'C:\\Users\\damit\\AppData\\Local\\Temp\\pip-wheel-z7qwg8zx'\n",
      "       cwd: C:\\Users\\damit\\AppData\\Local\\Temp\\pip-install-38qtp4mh\\fbprophet_cce051f5c03f47b1a5f483ec4eca794b\\\n",
      "  Complete output (43 lines):\n",
      "  running bdist_wheel\n",
      "  running build\n",
      "  running build_py\n",
      "  creating build\n",
      "  creating build\\lib\n",
      "  creating build\\lib\\fbprophet\n",
      "  creating build\\lib\\fbprophet\\stan_model\n",
      "  Importing plotly failed. Interactive plots will not work.\n",
      "  Traceback (most recent call last):\n",
      "    File \"<string>\", line 1, in <module>\n",
      "    File \"C:\\Users\\damit\\AppData\\Local\\Temp\\pip-install-38qtp4mh\\fbprophet_cce051f5c03f47b1a5f483ec4eca794b\\setup.py\", line 149, in <module>\n",
      "      long_description_content_type='text/markdown',\n",
      "    File \"c:\\users\\damit\\appdata\\local\\programs\\python\\python37\\lib\\site-packages\\setuptools\\__init__.py\", line 153, in setup\n",
      "      return distutils.core.setup(**attrs)\n",
      "    File \"c:\\users\\damit\\appdata\\local\\programs\\python\\python37\\lib\\distutils\\core.py\", line 148, in setup\n",
      "      dist.run_commands()\n",
      "    File \"c:\\users\\damit\\appdata\\local\\programs\\python\\python37\\lib\\distutils\\dist.py\", line 966, in run_commands\n",
      "      self.run_command(cmd)\n",
      "    File \"c:\\users\\damit\\appdata\\local\\programs\\python\\python37\\lib\\distutils\\dist.py\", line 985, in run_command\n",
      "      cmd_obj.run()\n",
      "    File \"c:\\users\\damit\\appdata\\local\\programs\\python\\python37\\lib\\site-packages\\wheel\\bdist_wheel.py\", line 299, in run\n",
      "      self.run_command('build')\n",
      "    File \"c:\\users\\damit\\appdata\\local\\programs\\python\\python37\\lib\\distutils\\cmd.py\", line 313, in run_command\n",
      "      self.distribution.run_command(command)\n",
      "    File \"c:\\users\\damit\\appdata\\local\\programs\\python\\python37\\lib\\distutils\\dist.py\", line 985, in run_command\n",
      "      cmd_obj.run()\n",
      "    File \"c:\\users\\damit\\appdata\\local\\programs\\python\\python37\\lib\\distutils\\command\\build.py\", line 135, in run\n",
      "      self.run_command(cmd_name)\n",
      "    File \"c:\\users\\damit\\appdata\\local\\programs\\python\\python37\\lib\\distutils\\cmd.py\", line 313, in run_command\n",
      "      self.distribution.run_command(command)\n",
      "    File \"c:\\users\\damit\\appdata\\local\\programs\\python\\python37\\lib\\distutils\\dist.py\", line 985, in run_command\n",
      "      cmd_obj.run()\n",
      "    File \"C:\\Users\\damit\\AppData\\Local\\Temp\\pip-install-38qtp4mh\\fbprophet_cce051f5c03f47b1a5f483ec4eca794b\\setup.py\", line 48, in run\n",
      "      build_models(target_dir)\n",
      "    File \"C:\\Users\\damit\\AppData\\Local\\Temp\\pip-install-38qtp4mh\\fbprophet_cce051f5c03f47b1a5f483ec4eca794b\\setup.py\", line 38, in build_models\n",
      "      StanBackendEnum.get_backend_class(backend).build_model(target_dir, MODEL_DIR)\n",
      "    File \"C:\\Users\\damit\\AppData\\Local\\Temp\\pip-install-38qtp4mh\\fbprophet_cce051f5c03f47b1a5f483ec4eca794b\\fbprophet\\models.py\", line 209, in build_model\n",
      "      import pystan\n"
     ]
    },
    {
     "name": "stdout",
     "output_type": "stream",
     "text": [
      "    Running setup.py install for fbprophet: finished with status 'error'\n"
     ]
    },
    {
     "name": "stderr",
     "output_type": "stream",
     "text": [
      "    File \"c:\\users\\damit\\appdata\\local\\programs\\python\\python37\\lib\\site-packages\\pystan\\__init__.py\", line 9, in <module>\n",
      "      from pystan.api import stanc, stan\n",
      "    File \"c:\\users\\damit\\appdata\\local\\programs\\python\\python37\\lib\\site-packages\\pystan\\api.py\", line 13, in <module>\n",
      "      import pystan._api  # stanc wrapper\n",
      "  ImportError: DLL load failed: %1 is not a valid Win32 application.\n",
      "  ----------------------------------------\n",
      "  ERROR: Failed building wheel for fbprophet\n",
      "    ERROR: Command errored out with exit status 1:\n",
      "     command: 'c:\\users\\damit\\appdata\\local\\programs\\python\\python37\\python.exe' -u -c 'import sys, setuptools, tokenize; sys.argv[0] = '\"'\"'C:\\\\Users\\\\damit\\\\AppData\\\\Local\\\\Temp\\\\pip-install-38qtp4mh\\\\fbprophet_cce051f5c03f47b1a5f483ec4eca794b\\\\setup.py'\"'\"'; __file__='\"'\"'C:\\\\Users\\\\damit\\\\AppData\\\\Local\\\\Temp\\\\pip-install-38qtp4mh\\\\fbprophet_cce051f5c03f47b1a5f483ec4eca794b\\\\setup.py'\"'\"';f=getattr(tokenize, '\"'\"'open'\"'\"', open)(__file__);code=f.read().replace('\"'\"'\\r\\n'\"'\"', '\"'\"'\\n'\"'\"');f.close();exec(compile(code, __file__, '\"'\"'exec'\"'\"'))' install --record 'C:\\Users\\damit\\AppData\\Local\\Temp\\pip-record-il6duom7\\install-record.txt' --single-version-externally-managed --compile --install-headers 'c:\\users\\damit\\appdata\\local\\programs\\python\\python37\\Include\\fbprophet'\n",
      "         cwd: C:\\Users\\damit\\AppData\\Local\\Temp\\pip-install-38qtp4mh\\fbprophet_cce051f5c03f47b1a5f483ec4eca794b\\\n",
      "    Complete output (45 lines):\n",
      "    running install\n",
      "    running build\n",
      "    running build_py\n",
      "    creating build\n",
      "    creating build\\lib\n",
      "    creating build\\lib\\fbprophet\n",
      "    creating build\\lib\\fbprophet\\stan_model\n",
      "    Importing plotly failed. Interactive plots will not work.\n",
      "    Traceback (most recent call last):\n",
      "      File \"<string>\", line 1, in <module>\n",
      "      File \"C:\\Users\\damit\\AppData\\Local\\Temp\\pip-install-38qtp4mh\\fbprophet_cce051f5c03f47b1a5f483ec4eca794b\\setup.py\", line 149, in <module>\n",
      "        long_description_content_type='text/markdown',\n",
      "      File \"c:\\users\\damit\\appdata\\local\\programs\\python\\python37\\lib\\site-packages\\setuptools\\__init__.py\", line 153, in setup\n",
      "        return distutils.core.setup(**attrs)\n",
      "      File \"c:\\users\\damit\\appdata\\local\\programs\\python\\python37\\lib\\distutils\\core.py\", line 148, in setup\n",
      "        dist.run_commands()\n",
      "      File \"c:\\users\\damit\\appdata\\local\\programs\\python\\python37\\lib\\distutils\\dist.py\", line 966, in run_commands\n",
      "        self.run_command(cmd)\n",
      "      File \"c:\\users\\damit\\appdata\\local\\programs\\python\\python37\\lib\\distutils\\dist.py\", line 985, in run_command\n",
      "        cmd_obj.run()\n",
      "      File \"c:\\users\\damit\\appdata\\local\\programs\\python\\python37\\lib\\site-packages\\setuptools\\command\\install.py\", line 61, in run\n",
      "        return orig.install.run(self)\n",
      "      File \"c:\\users\\damit\\appdata\\local\\programs\\python\\python37\\lib\\distutils\\command\\install.py\", line 545, in run\n",
      "        self.run_command('build')\n",
      "      File \"c:\\users\\damit\\appdata\\local\\programs\\python\\python37\\lib\\distutils\\cmd.py\", line 313, in run_command\n",
      "        self.distribution.run_command(command)\n",
      "      File \"c:\\users\\damit\\appdata\\local\\programs\\python\\python37\\lib\\distutils\\dist.py\", line 985, in run_command\n",
      "        cmd_obj.run()\n",
      "      File \"c:\\users\\damit\\appdata\\local\\programs\\python\\python37\\lib\\distutils\\command\\build.py\", line 135, in run\n",
      "        self.run_command(cmd_name)\n",
      "      File \"c:\\users\\damit\\appdata\\local\\programs\\python\\python37\\lib\\distutils\\cmd.py\", line 313, in run_command\n",
      "        self.distribution.run_command(command)\n",
      "      File \"c:\\users\\damit\\appdata\\local\\programs\\python\\python37\\lib\\distutils\\dist.py\", line 985, in run_command\n",
      "        cmd_obj.run()\n",
      "      File \"C:\\Users\\damit\\AppData\\Local\\Temp\\pip-install-38qtp4mh\\fbprophet_cce051f5c03f47b1a5f483ec4eca794b\\setup.py\", line 48, in run\n",
      "        build_models(target_dir)\n",
      "      File \"C:\\Users\\damit\\AppData\\Local\\Temp\\pip-install-38qtp4mh\\fbprophet_cce051f5c03f47b1a5f483ec4eca794b\\setup.py\", line 38, in build_models\n",
      "        StanBackendEnum.get_backend_class(backend).build_model(target_dir, MODEL_DIR)\n",
      "      File \"C:\\Users\\damit\\AppData\\Local\\Temp\\pip-install-38qtp4mh\\fbprophet_cce051f5c03f47b1a5f483ec4eca794b\\fbprophet\\models.py\", line 209, in build_model\n",
      "        import pystan\n",
      "      File \"c:\\users\\damit\\appdata\\local\\programs\\python\\python37\\lib\\site-packages\\pystan\\__init__.py\", line 9, in <module>\n",
      "        from pystan.api import stanc, stan\n",
      "      File \"c:\\users\\damit\\appdata\\local\\programs\\python\\python37\\lib\\site-packages\\pystan\\api.py\", line 13, in <module>\n",
      "        import pystan._api  # stanc wrapper\n",
      "    ImportError: DLL load failed: %1 is not a valid Win32 application.\n",
      "    ----------------------------------------\n",
      "ERROR: Command errored out with exit status 1: 'c:\\users\\damit\\appdata\\local\\programs\\python\\python37\\python.exe' -u -c 'import sys, setuptools, tokenize; sys.argv[0] = '\"'\"'C:\\\\Users\\\\damit\\\\AppData\\\\Local\\\\Temp\\\\pip-install-38qtp4mh\\\\fbprophet_cce051f5c03f47b1a5f483ec4eca794b\\\\setup.py'\"'\"'; __file__='\"'\"'C:\\\\Users\\\\damit\\\\AppData\\\\Local\\\\Temp\\\\pip-install-38qtp4mh\\\\fbprophet_cce051f5c03f47b1a5f483ec4eca794b\\\\setup.py'\"'\"';f=getattr(tokenize, '\"'\"'open'\"'\"', open)(__file__);code=f.read().replace('\"'\"'\\r\\n'\"'\"', '\"'\"'\\n'\"'\"');f.close();exec(compile(code, __file__, '\"'\"'exec'\"'\"'))' install --record 'C:\\Users\\damit\\AppData\\Local\\Temp\\pip-record-il6duom7\\install-record.txt' --single-version-externally-managed --compile --install-headers 'c:\\users\\damit\\appdata\\local\\programs\\python\\python37\\Include\\fbprophet' Check the logs for full command output.\n"
     ]
    }
   ],
   "source": [
    "!pip install pystan\n",
    "!pip install fbprophet"
   ]
  },
  {
   "cell_type": "code",
   "execution_count": 4,
   "metadata": {
    "scrolled": true
   },
   "outputs": [
    {
     "ename": "ModuleNotFoundError",
     "evalue": "No module named 'fbprophet'",
     "output_type": "error",
     "traceback": [
      "\u001b[1;31m---------------------------------------------------------------------------\u001b[0m",
      "\u001b[1;31mModuleNotFoundError\u001b[0m                       Traceback (most recent call last)",
      "\u001b[1;32m<ipython-input-4-7bda92cab60d>\u001b[0m in \u001b[0;36m<module>\u001b[1;34m\u001b[0m\n\u001b[0;32m      1\u001b[0m \u001b[1;32mimport\u001b[0m \u001b[0mpandas\u001b[0m \u001b[1;32mas\u001b[0m \u001b[0mpd\u001b[0m\u001b[1;33m\u001b[0m\u001b[1;33m\u001b[0m\u001b[0m\n\u001b[1;32m----> 2\u001b[1;33m \u001b[1;32mfrom\u001b[0m \u001b[0mfbprophet\u001b[0m \u001b[1;32mimport\u001b[0m \u001b[0mProphet\u001b[0m\u001b[1;33m\u001b[0m\u001b[1;33m\u001b[0m\u001b[0m\n\u001b[0m",
      "\u001b[1;31mModuleNotFoundError\u001b[0m: No module named 'fbprophet'"
     ]
    }
   ],
   "source": [
    "import pandas as pd\n",
    "from fbprophet import Prophet"
   ]
  },
  {
   "cell_type": "code",
   "execution_count": 5,
   "metadata": {},
   "outputs": [
    {
     "ename": "ModuleNotFoundError",
     "evalue": "No module named 'fbprophet'",
     "output_type": "error",
     "traceback": [
      "\u001b[1;31m---------------------------------------------------------------------------\u001b[0m",
      "\u001b[1;31mModuleNotFoundError\u001b[0m                       Traceback (most recent call last)",
      "\u001b[1;32m<ipython-input-5-4f89f47c1bda>\u001b[0m in \u001b[0;36m<module>\u001b[1;34m\u001b[0m\n\u001b[1;32m----> 1\u001b[1;33m \u001b[1;32mimport\u001b[0m \u001b[0mfbprophet\u001b[0m\u001b[1;33m\u001b[0m\u001b[1;33m\u001b[0m\u001b[0m\n\u001b[0m",
      "\u001b[1;31mModuleNotFoundError\u001b[0m: No module named 'fbprophet'"
     ]
    }
   ],
   "source": [
    "import fbprophet"
   ]
  },
  {
   "cell_type": "code",
   "execution_count": null,
   "metadata": {},
   "outputs": [],
   "source": []
  },
  {
   "cell_type": "code",
   "execution_count": null,
   "metadata": {},
   "outputs": [],
   "source": []
  },
  {
   "cell_type": "code",
   "execution_count": null,
   "metadata": {},
   "outputs": [],
   "source": []
  },
  {
   "cell_type": "code",
   "execution_count": null,
   "metadata": {},
   "outputs": [],
   "source": []
  }
 ],
 "metadata": {
  "kernelspec": {
   "display_name": "Python 3",
   "language": "python",
   "name": "python3"
  },
  "language_info": {
   "codemirror_mode": {
    "name": "ipython",
    "version": 3
   },
   "file_extension": ".py",
   "mimetype": "text/x-python",
   "name": "python",
   "nbconvert_exporter": "python",
   "pygments_lexer": "ipython3",
   "version": "3.7.6"
  }
 },
 "nbformat": 4,
 "nbformat_minor": 4
}
