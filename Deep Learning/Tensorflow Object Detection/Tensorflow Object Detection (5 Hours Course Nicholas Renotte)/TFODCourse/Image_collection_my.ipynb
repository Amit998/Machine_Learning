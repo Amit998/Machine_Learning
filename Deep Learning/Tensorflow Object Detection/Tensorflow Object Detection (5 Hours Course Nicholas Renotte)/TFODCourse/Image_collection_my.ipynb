{
 "cells": [
  {
   "cell_type": "code",
   "execution_count": 5,
   "metadata": {},
   "outputs": [],
   "source": [
    "# Import opencv\n",
    "import cv2 \n",
    "\n",
    "# Import uuid\n",
    "import uuid\n",
    "\n",
    "# Import Operating System\n",
    "import os\n",
    "\n",
    "# Import time\n",
    "import time"
   ]
  },
  {
   "cell_type": "code",
   "execution_count": 7,
   "metadata": {},
   "outputs": [],
   "source": [
    "labels = ['thumbsup', 'thumbsdown', 'thankyou', 'livelong']\n",
    "number_imgs = 5"
   ]
  },
  {
   "cell_type": "code",
   "execution_count": 9,
   "metadata": {},
   "outputs": [],
   "source": [
    "IMAGES_PATH = os.path.join('Tensorflow', 'workspace', 'images', 'collectedimages')"
   ]
  },
  {
   "cell_type": "code",
   "execution_count": 10,
   "metadata": {},
   "outputs": [
    {
     "name": "stdout",
     "output_type": "stream",
     "text": [
      "Tensorflow\\workspace\\images\\collectedimages\n"
     ]
    }
   ],
   "source": [
    "print(IMAGES_PATH)"
   ]
  },
  {
   "cell_type": "code",
   "execution_count": 11,
   "metadata": {},
   "outputs": [
    {
     "name": "stdout",
     "output_type": "stream",
     "text": [
      "nt\n"
     ]
    }
   ],
   "source": [
    "print(os.name)"
   ]
  },
  {
   "cell_type": "code",
   "execution_count": 12,
   "metadata": {},
   "outputs": [],
   "source": [
    "if not os.path.exists(IMAGES_PATH):\n",
    "    if os.name == 'posix':\n",
    "        !mkdir -p {IMAGES_PATH}\n",
    "    if os.name == 'nt':\n",
    "         !mkdir {IMAGES_PATH}\n",
    "for label in labels:\n",
    "    path = os.path.join(IMAGES_PATH, label)\n",
    "    if not os.path.exists(path):\n",
    "        !mkdir {path}"
   ]
  },
  {
   "cell_type": "code",
   "execution_count": 13,
   "metadata": {},
   "outputs": [
    {
     "data": {
      "text/plain": [
       "'Tensorflow\\\\workspace\\\\images\\\\collectedimages'"
      ]
     },
     "execution_count": 13,
     "metadata": {},
     "output_type": "execute_result"
    }
   ],
   "source": [
    "IMAGES_PATH"
   ]
  },
  {
   "cell_type": "code",
   "execution_count": 15,
   "metadata": {},
   "outputs": [
    {
     "name": "stdout",
     "output_type": "stream",
     "text": [
      "Collecting images for thumbsup\n",
      "Collecting image 0\n",
      "Collecting image 1\n",
      "Collecting image 2\n",
      "Collecting image 3\n",
      "Collecting image 4\n",
      "Collecting images for thumbsdown\n",
      "Collecting image 0\n",
      "Collecting image 1\n",
      "Collecting image 2\n",
      "Collecting image 3\n",
      "Collecting image 4\n",
      "Collecting images for thankyou\n",
      "Collecting image 0\n",
      "Collecting image 1\n",
      "Collecting image 2\n",
      "Collecting image 3\n",
      "Collecting image 4\n",
      "Collecting images for livelong\n",
      "Collecting image 0\n",
      "Collecting image 1\n",
      "Collecting image 2\n",
      "Collecting image 3\n",
      "Collecting image 4\n"
     ]
    }
   ],
   "source": [
    "for label in labels:\n",
    "    cap = cv2.VideoCapture(0) #connect to our webcam\n",
    "    print('Collecting images for {}'.format(label))\n",
    "    time.sleep(5)\n",
    "    for imgnum in range(number_imgs):\n",
    "        print('Collecting image {}'.format(imgnum))\n",
    "#         print(label)\n",
    "        ret, frame = cap.read()\n",
    "        imgname = os.path.join(IMAGES_PATH,label,label+'.'+'{}.jpg'.format(str(uuid.uuid1())))\n",
    "        cv2.imwrite(imgname, frame)\n",
    "        cv2.imshow('frame', frame)\n",
    "        time.sleep(2)\n",
    "\n",
    "        if cv2.waitKey(1) & 0xFF == ord('q'):\n",
    "            break\n",
    "cap.release()\n",
    "cv2.destroyAllWindows()"
   ]
  },
  {
   "cell_type": "code",
   "execution_count": 6,
   "metadata": {},
   "outputs": [
    {
     "name": "stdout",
     "output_type": "stream",
     "text": [
      "Requirement already satisfied: pyqt5 in c:\\users\\damit\\appdata\\local\\programs\\python\\python37\\lib\\site-packages (5.15.3)\n",
      "Collecting pyqt5\n",
      "  Downloading PyQt5-5.15.4-cp36.cp37.cp38.cp39-none-win_amd64.whl (6.8 MB)\n",
      "Collecting lxml\n",
      "  Downloading lxml-4.6.3-cp37-cp37m-win_amd64.whl (3.5 MB)\n",
      "Collecting PyQt5-Qt5>=5.15\n",
      "  Downloading PyQt5_Qt5-5.15.2-py3-none-win_amd64.whl (50.1 MB)\n",
      "Requirement already satisfied: PyQt5-sip<13,>=12.8 in c:\\users\\damit\\appdata\\local\\programs\\python\\python37\\lib\\site-packages (from pyqt5) (12.8.1)\n",
      "Installing collected packages: PyQt5-Qt5, pyqt5, lxml\n",
      "  Attempting uninstall: pyqt5\n",
      "    Found existing installation: PyQt5 5.15.3\n",
      "    Uninstalling PyQt5-5.15.3:\n",
      "      Successfully uninstalled PyQt5-5.15.3\n",
      "Successfully installed PyQt5-Qt5-5.15.2 lxml-4.6.3 pyqt5-5.15.4\n"
     ]
    },
    {
     "name": "stderr",
     "output_type": "stream",
     "text": [
      "WARNING: Value for scheme.headers does not match. Please report this to <https://github.com/pypa/pip/issues/9617>\n",
      "distutils: c:\\users\\damit\\appdata\\local\\programs\\python\\python37\\Include\\UNKNOWN\n",
      "sysconfig: c:\\users\\damit\\appdata\\local\\programs\\python\\python37\\Include\n",
      "WARNING: Additional context:\n",
      "user = False\n",
      "home = None\n",
      "root = None\n",
      "prefix = None\n",
      "WARNING: Ignoring invalid distribution -xml (c:\\users\\damit\\appdata\\local\\programs\\python\\python37\\lib\\site-packages)\n",
      "WARNING: Ignoring invalid distribution -xml (c:\\users\\damit\\appdata\\local\\programs\\python\\python37\\lib\\site-packages)\n",
      "WARNING: Ignoring invalid distribution -xml (c:\\users\\damit\\appdata\\local\\programs\\python\\python37\\lib\\site-packages)\n",
      "    WARNING: Ignoring invalid distribution -xml (c:\\users\\damit\\appdata\\local\\programs\\python\\python37\\lib\\site-packages)\n",
      "WARNING: Value for scheme.headers does not match. Please report this to <https://github.com/pypa/pip/issues/9617>\n",
      "distutils: c:\\users\\damit\\appdata\\local\\programs\\python\\python37\\Include\\UNKNOWN\n",
      "sysconfig: c:\\users\\damit\\appdata\\local\\programs\\python\\python37\\Include\n",
      "WARNING: Additional context:\n",
      "user = False\n",
      "home = None\n",
      "root = None\n",
      "prefix = None\n",
      "WARNING: Ignoring invalid distribution -xml (c:\\users\\damit\\appdata\\local\\programs\\python\\python37\\lib\\site-packages)\n",
      "WARNING: Ignoring invalid distribution -xml (c:\\users\\damit\\appdata\\local\\programs\\python\\python37\\lib\\site-packages)\n",
      "WARNING: Ignoring invalid distribution -xml (c:\\users\\damit\\appdata\\local\\programs\\python\\python37\\lib\\site-packages)\n",
      "WARNING: Ignoring invalid distribution -xml (c:\\users\\damit\\appdata\\local\\programs\\python\\python37\\lib\\site-packages)\n",
      "WARNING: Ignoring invalid distribution -xml (c:\\users\\damit\\appdata\\local\\programs\\python\\python37\\lib\\site-packages)\n"
     ]
    }
   ],
   "source": [
    "!pip install --upgrade pyqt5 lxml"
   ]
  },
  {
   "cell_type": "code",
   "execution_count": 17,
   "metadata": {},
   "outputs": [],
   "source": [
    "LABELIMG_PATH = os.path.join('Tensorflow', 'labelimg')"
   ]
  },
  {
   "cell_type": "code",
   "execution_count": 18,
   "metadata": {},
   "outputs": [
    {
     "name": "stderr",
     "output_type": "stream",
     "text": [
      "Cloning into 'Tensorflow\\labelimg'...\n"
     ]
    }
   ],
   "source": [
    "if not os.path.exists(LABELIMG_PATH):\n",
    "    !mkdir {LABELIMG_PATH}\n",
    "    !git clone https://github.com/tzutalin/labelImg {LABELIMG_PATH}"
   ]
  },
  {
   "cell_type": "code",
   "execution_count": 21,
   "metadata": {},
   "outputs": [],
   "source": [
    "if os.name == 'posix':\n",
    "    !cd {LABELIMG_PATH} && !make qt5py3\n",
    "if os.name =='nt':\n",
    "    !cd {LABELIMG_PATH} && pyrcc5 -o libs/resources.py resources.qrc"
   ]
  },
  {
   "cell_type": "code",
   "execution_count": 22,
   "metadata": {},
   "outputs": [
    {
     "name": "stdout",
     "output_type": "stream",
     "text": [
      "Cancel creation.\n",
      "Image:D:\\study\\python\\AI\\Deep Learning\\Tensorflow Object Detection\\Tensorflow Object Detection (5 Hours Course Nicholas Renotte)\\TFODCourse\\Tensorflow\\workspace\\images\\collectedimages\\livelong\\livelong.a0c45ad8-a76d-11eb-a195-24ee9aece5f9.jpg -> Annotation:D:/study/python/AI/Deep Learning/Tensorflow Object Detection/Tensorflow Object Detection (5 Hours Course Nicholas Renotte)/TFODCourse/Tensorflow/workspace/images/collectedimages/livelong\\livelong.a0c45ad8-a76d-11eb-a195-24ee9aece5f9.xml\n",
      "Image:D:\\study\\python\\AI\\Deep Learning\\Tensorflow Object Detection\\Tensorflow Object Detection (5 Hours Course Nicholas Renotte)\\TFODCourse\\Tensorflow\\workspace\\images\\collectedimages\\livelong\\livelong.a1f9b598-a76d-11eb-b66f-24ee9aece5f9.jpg -> Annotation:D:/study/python/AI/Deep Learning/Tensorflow Object Detection/Tensorflow Object Detection (5 Hours Course Nicholas Renotte)/TFODCourse/Tensorflow/workspace/images/collectedimages/livelong\\livelong.a1f9b598-a76d-11eb-b66f-24ee9aece5f9.txt\n",
      "Image:D:\\study\\python\\AI\\Deep Learning\\Tensorflow Object Detection\\Tensorflow Object Detection (5 Hours Course Nicholas Renotte)\\TFODCourse\\Tensorflow\\workspace\\images\\collectedimages\\livelong\\livelong.a1f9b598-a76d-11eb-b66f-24ee9aece5f9.jpg -> Annotation:D:/study/python/AI/Deep Learning/Tensorflow Object Detection/Tensorflow Object Detection (5 Hours Course Nicholas Renotte)/TFODCourse/Tensorflow/workspace/images/collectedimages/livelong\\livelong.a1f9b598-a76d-11eb-b66f-24ee9aece5f9.xml\n",
      "Image:D:\\study\\python\\AI\\Deep Learning\\Tensorflow Object Detection\\Tensorflow Object Detection (5 Hours Course Nicholas Renotte)\\TFODCourse\\Tensorflow\\workspace\\images\\collectedimages\\livelong\\livelong.a32f7cbe-a76d-11eb-9108-24ee9aece5f9.jpg -> Annotation:D:/study/python/AI/Deep Learning/Tensorflow Object Detection/Tensorflow Object Detection (5 Hours Course Nicholas Renotte)/TFODCourse/Tensorflow/workspace/images/collectedimages/livelong\\livelong.a32f7cbe-a76d-11eb-9108-24ee9aece5f9.xml\n",
      "Image:D:\\study\\python\\AI\\Deep Learning\\Tensorflow Object Detection\\Tensorflow Object Detection (5 Hours Course Nicholas Renotte)\\TFODCourse\\Tensorflow\\workspace\\images\\collectedimages\\livelong\\livelong.a465c024-a76d-11eb-96b1-24ee9aece5f9.jpg -> Annotation:D:/study/python/AI/Deep Learning/Tensorflow Object Detection/Tensorflow Object Detection (5 Hours Course Nicholas Renotte)/TFODCourse/Tensorflow/workspace/images/collectedimages/livelong\\livelong.a465c024-a76d-11eb-96b1-24ee9aece5f9.xml\n",
      "Image:D:\\study\\python\\AI\\Deep Learning\\Tensorflow Object Detection\\Tensorflow Object Detection (5 Hours Course Nicholas Renotte)\\TFODCourse\\Tensorflow\\workspace\\images\\collectedimages\\livelong\\livelong.a598855e-a76d-11eb-8b04-24ee9aece5f9.jpg -> Annotation:D:/study/python/AI/Deep Learning/Tensorflow Object Detection/Tensorflow Object Detection (5 Hours Course Nicholas Renotte)/TFODCourse/Tensorflow/workspace/images/collectedimages/livelong\\livelong.a598855e-a76d-11eb-8b04-24ee9aece5f9.xml\n",
      "Image:D:\\study\\python\\AI\\Deep Learning\\Tensorflow Object Detection\\Tensorflow Object Detection (5 Hours Course Nicholas Renotte)\\TFODCourse\\Tensorflow\\workspace\\images\\collectedimages\\thankyou\\thankyou.9aeae952-a76d-11eb-b975-24ee9aece5f9.jpg -> Annotation:D:/study/python/AI/Deep Learning/Tensorflow Object Detection/Tensorflow Object Detection (5 Hours Course Nicholas Renotte)/TFODCourse/Tensorflow/workspace/images/collectedimages/thankyou\\thankyou.9aeae952-a76d-11eb-b975-24ee9aece5f9.xml\n",
      "Cancel creation.\n",
      "Image:D:\\study\\python\\AI\\Deep Learning\\Tensorflow Object Detection\\Tensorflow Object Detection (5 Hours Course Nicholas Renotte)\\TFODCourse\\Tensorflow\\workspace\\images\\collectedimages\\thankyou\\thankyou.9c1fa738-a76d-11eb-931c-24ee9aece5f9.jpg -> Annotation:D:/study/python/AI/Deep Learning/Tensorflow Object Detection/Tensorflow Object Detection (5 Hours Course Nicholas Renotte)/TFODCourse/Tensorflow/workspace/images/collectedimages/thankyou\\thankyou.9c1fa738-a76d-11eb-931c-24ee9aece5f9.xml\n",
      "Image:D:\\study\\python\\AI\\Deep Learning\\Tensorflow Object Detection\\Tensorflow Object Detection (5 Hours Course Nicholas Renotte)\\TFODCourse\\Tensorflow\\workspace\\images\\collectedimages\\thankyou\\thankyou.99b4574a-a76d-11eb-84aa-24ee9aece5f9.jpg -> Annotation:D:/study/python/AI/Deep Learning/Tensorflow Object Detection/Tensorflow Object Detection (5 Hours Course Nicholas Renotte)/TFODCourse/Tensorflow/workspace/images/collectedimages/thankyou\\thankyou.99b4574a-a76d-11eb-84aa-24ee9aece5f9.xml\n",
      "Image:D:\\study\\python\\AI\\Deep Learning\\Tensorflow Object Detection\\Tensorflow Object Detection (5 Hours Course Nicholas Renotte)\\TFODCourse\\Tensorflow\\workspace\\images\\collectedimages\\thankyou\\thankyou.974d67ba-a76d-11eb-832b-24ee9aece5f9.jpg -> Annotation:D:/study/python/AI/Deep Learning/Tensorflow Object Detection/Tensorflow Object Detection (5 Hours Course Nicholas Renotte)/TFODCourse/Tensorflow/workspace/images/collectedimages/thankyou\\thankyou.974d67ba-a76d-11eb-832b-24ee9aece5f9.xml\n",
      "Image:D:\\study\\python\\AI\\Deep Learning\\Tensorflow Object Detection\\Tensorflow Object Detection (5 Hours Course Nicholas Renotte)\\TFODCourse\\Tensorflow\\workspace\\images\\collectedimages\\thankyou\\thankyou.9881a5cc-a76d-11eb-ac50-24ee9aece5f9.jpg -> Annotation:D:/study/python/AI/Deep Learning/Tensorflow Object Detection/Tensorflow Object Detection (5 Hours Course Nicholas Renotte)/TFODCourse/Tensorflow/workspace/images/collectedimages/thankyou\\thankyou.9881a5cc-a76d-11eb-ac50-24ee9aece5f9.xml\n",
      "Image:D:\\study\\python\\AI\\Deep Learning\\Tensorflow Object Detection\\Tensorflow Object Detection (5 Hours Course Nicholas Renotte)\\TFODCourse\\Tensorflow\\workspace\\images\\collectedimages\\thumbsdown\\thumbsdown.8dc665e2-a76d-11eb-ab28-24ee9aece5f9.jpg -> Annotation:D:/study/python/AI/Deep Learning/Tensorflow Object Detection/Tensorflow Object Detection (5 Hours Course Nicholas Renotte)/TFODCourse/Tensorflow/workspace/images/collectedimages/thumbsdown\\thumbsdown.8dc665e2-a76d-11eb-ab28-24ee9aece5f9.xml\n",
      "Image:D:\\study\\python\\AI\\Deep Learning\\Tensorflow Object Detection\\Tensorflow Object Detection (5 Hours Course Nicholas Renotte)\\TFODCourse\\Tensorflow\\workspace\\images\\collectedimages\\thumbsdown\\thumbsdown.8efaaff8-a76d-11eb-b340-24ee9aece5f9.jpg -> Annotation:D:/study/python/AI/Deep Learning/Tensorflow Object Detection/Tensorflow Object Detection (5 Hours Course Nicholas Renotte)/TFODCourse/Tensorflow/workspace/images/collectedimages/thumbsdown\\thumbsdown.8efaaff8-a76d-11eb-b340-24ee9aece5f9.xml\n",
      "Image:D:\\study\\python\\AI\\Deep Learning\\Tensorflow Object Detection\\Tensorflow Object Detection (5 Hours Course Nicholas Renotte)\\TFODCourse\\Tensorflow\\workspace\\images\\collectedimages\\thumbsdown\\thumbsdown.929dd826-a76d-11eb-a4f1-24ee9aece5f9.jpg -> Annotation:D:/study/python/AI/Deep Learning/Tensorflow Object Detection/Tensorflow Object Detection (5 Hours Course Nicholas Renotte)/TFODCourse/Tensorflow/workspace/images/collectedimages/thumbsdown\\thumbsdown.929dd826-a76d-11eb-a4f1-24ee9aece5f9.xml\n",
      "Image:D:\\study\\python\\AI\\Deep Learning\\Tensorflow Object Detection\\Tensorflow Object Detection (5 Hours Course Nicholas Renotte)\\TFODCourse\\Tensorflow\\workspace\\images\\collectedimages\\thumbsdown\\thumbsdown.90316d94-a76d-11eb-9fd1-24ee9aece5f9.jpg -> Annotation:D:/study/python/AI/Deep Learning/Tensorflow Object Detection/Tensorflow Object Detection (5 Hours Course Nicholas Renotte)/TFODCourse/Tensorflow/workspace/images/collectedimages/thumbsdown\\thumbsdown.90316d94-a76d-11eb-9fd1-24ee9aece5f9.xml\n",
      "Image:D:\\study\\python\\AI\\Deep Learning\\Tensorflow Object Detection\\Tensorflow Object Detection (5 Hours Course Nicholas Renotte)\\TFODCourse\\Tensorflow\\workspace\\images\\collectedimages\\thumbsdown\\thumbsdown.916705ba-a76d-11eb-8308-24ee9aece5f9.jpg -> Annotation:D:/study/python/AI/Deep Learning/Tensorflow Object Detection/Tensorflow Object Detection (5 Hours Course Nicholas Renotte)/TFODCourse/Tensorflow/workspace/images/collectedimages/thumbsdown\\thumbsdown.916705ba-a76d-11eb-8308-24ee9aece5f9.xml\n",
      "Image:D:\\study\\python\\AI\\Deep Learning\\Tensorflow Object Detection\\Tensorflow Object Detection (5 Hours Course Nicholas Renotte)\\TFODCourse\\Tensorflow\\workspace\\images\\collectedimages\\thumbsup\\thumbsup.86b08668-a76d-11eb-8fac-24ee9aece5f9.jpg -> Annotation:D:/study/python/AI/Deep Learning/Tensorflow Object Detection/Tensorflow Object Detection (5 Hours Course Nicholas Renotte)/TFODCourse/Tensorflow/workspace/images/collectedimages/thumbsup\\thumbsup.86b08668-a76d-11eb-8fac-24ee9aece5f9.xml\n",
      "Image:D:\\study\\python\\AI\\Deep Learning\\Tensorflow Object Detection\\Tensorflow Object Detection (5 Hours Course Nicholas Renotte)\\TFODCourse\\Tensorflow\\workspace\\images\\collectedimages\\thumbsup\\thumbsup.87e5c9e8-a76d-11eb-bb8b-24ee9aece5f9.jpg -> Annotation:D:/study/python/AI/Deep Learning/Tensorflow Object Detection/Tensorflow Object Detection (5 Hours Course Nicholas Renotte)/TFODCourse/Tensorflow/workspace/images/collectedimages/thumbsup\\thumbsup.87e5c9e8-a76d-11eb-bb8b-24ee9aece5f9.xml\n",
      "Cancel creation.\n",
      "Image:D:\\study\\python\\AI\\Deep Learning\\Tensorflow Object Detection\\Tensorflow Object Detection (5 Hours Course Nicholas Renotte)\\TFODCourse\\Tensorflow\\workspace\\images\\collectedimages\\thumbsup\\thumbsup.857cf6dc-a76d-11eb-b5c7-24ee9aece5f9.jpg -> Annotation:D:/study/python/AI/Deep Learning/Tensorflow Object Detection/Tensorflow Object Detection (5 Hours Course Nicholas Renotte)/TFODCourse/Tensorflow/workspace/images/collectedimages/thumbsup\\thumbsup.857cf6dc-a76d-11eb-b5c7-24ee9aece5f9.xml\n",
      "Image:D:\\study\\python\\AI\\Deep Learning\\Tensorflow Object Detection\\Tensorflow Object Detection (5 Hours Course Nicholas Renotte)\\TFODCourse\\Tensorflow\\workspace\\images\\collectedimages\\thumbsup\\thumbsup.891bf7ae-a76d-11eb-ab8f-24ee9aece5f9.jpg -> Annotation:D:/study/python/AI/Deep Learning/Tensorflow Object Detection/Tensorflow Object Detection (5 Hours Course Nicholas Renotte)/TFODCourse/Tensorflow/workspace/images/collectedimages/thumbsup\\thumbsup.891bf7ae-a76d-11eb-ab8f-24ee9aece5f9.xml\n",
      "Image:D:\\study\\python\\AI\\Deep Learning\\Tensorflow Object Detection\\Tensorflow Object Detection (5 Hours Course Nicholas Renotte)\\TFODCourse\\Tensorflow\\workspace\\images\\collectedimages\\thumbsup\\thumbsup.8446bcda-a76d-11eb-95bf-24ee9aece5f9.jpg -> Annotation:D:/study/python/AI/Deep Learning/Tensorflow Object Detection/Tensorflow Object Detection (5 Hours Course Nicholas Renotte)/TFODCourse/Tensorflow/workspace/images/collectedimages/thumbsup\\thumbsup.8446bcda-a76d-11eb-95bf-24ee9aece5f9.xml\n"
     ]
    }
   ],
   "source": [
    "!cd {LABELIMG_PATH} && python labelImg.py"
   ]
  },
  {
   "cell_type": "code",
   "execution_count": null,
   "metadata": {},
   "outputs": [],
   "source": []
  },
  {
   "cell_type": "code",
   "execution_count": null,
   "metadata": {},
   "outputs": [],
   "source": []
  },
  {
   "cell_type": "code",
   "execution_count": null,
   "metadata": {},
   "outputs": [],
   "source": []
  }
 ],
 "metadata": {
  "kernelspec": {
   "display_name": "tfod",
   "language": "python",
   "name": "tfod"
  },
  "language_info": {
   "codemirror_mode": {
    "name": "ipython",
    "version": 3
   },
   "file_extension": ".py",
   "mimetype": "text/x-python",
   "name": "python",
   "nbconvert_exporter": "python",
   "pygments_lexer": "ipython3",
   "version": "3.7.6"
  }
 },
 "nbformat": 4,
 "nbformat_minor": 4
}
